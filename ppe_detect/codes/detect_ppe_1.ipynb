{
 "cells": [
  {
   "cell_type": "code",
   "execution_count": 1,
   "metadata": {},
   "outputs": [
    {
     "name": "stdout",
     "output_type": "stream",
     "text": [
      "MPS is available\n"
     ]
    }
   ],
   "source": [
    "import torch\n",
    "#Checking if MPS is avaliable\n",
    "if torch.backends.mps.is_available():\n",
    "    print(\"MPS is available\")\n",
    "else:\n",
    "    print(\"MPS is not available\")"
   ]
  },
  {
   "cell_type": "code",
   "execution_count": 2,
   "metadata": {},
   "outputs": [
    {
     "name": "stderr",
     "output_type": "stream",
     "text": [
      "/Users/varun/Library/Python/3.9/lib/python/site-packages/urllib3/__init__.py:35: NotOpenSSLWarning: urllib3 v2 only supports OpenSSL 1.1.1+, currently the 'ssl' module is compiled with 'LibreSSL 2.8.3'. See: https://github.com/urllib3/urllib3/issues/3020\n",
      "  warnings.warn(\n"
     ]
    }
   ],
   "source": [
    "from ultralytics import YOLO\n",
    "import cv2\n",
    "import cvzone"
   ]
  },
  {
   "cell_type": "markdown",
   "metadata": {},
   "source": [
    "## Custom Model Training"
   ]
  },
  {
   "cell_type": "markdown",
   "metadata": {},
   "source": [
    "/Users/varun/Documents/yolo_weights/yolov8l.pt\n",
    "/Users/varun/Documents/gfg_cv/experimenting_yolo\n",
    "/Users/varun/Documents/gfg_cv/ppe_detect/dataset/Construction_Site_Safety"
   ]
  },
  {
   "cell_type": "markdown",
   "metadata": {},
   "source": [
    "#### Checking if the paths are working"
   ]
  },
  {
   "cell_type": "code",
   "execution_count": 7,
   "metadata": {},
   "outputs": [
    {
     "name": "stdout",
     "output_type": "stream",
     "text": [
      "Model file exists: /Users/varun/Documents/yolo_weights/yolov8l.pt\n",
      "Dataset configuration file exists: /Users/varun/Documents/gfg_cv/ppe_detect/dataset/Construction_Site_Safety/data.yaml\n"
     ]
    }
   ],
   "source": [
    "import os\n",
    "\n",
    "model_path = \"/Users/varun/Documents/yolo_weights/yolov8l.pt\"\n",
    "data_path = \"/Users/varun/Documents/gfg_cv/ppe_detect/dataset/Construction_Site_Safety/data.yaml\"\n",
    "\n",
    "if os.path.exists(model_path):\n",
    "    print(f\"Model file exists: {model_path}\")\n",
    "else:\n",
    "    print(f\"Model file does not exist: {model_path}\")\n",
    "\n",
    "if os.path.exists(data_path):\n",
    "    print(f\"Dataset configuration file exists: {data_path}\")\n",
    "else:\n",
    "    print(f\"Dataset configuration file does not exist: {data_path}\")"
   ]
  },
  {
   "cell_type": "markdown",
   "metadata": {},
   "source": [
    "#### Testing on a img"
   ]
  },
  {
   "cell_type": "code",
   "execution_count": 9,
   "metadata": {},
   "outputs": [
    {
     "name": "stdout",
     "output_type": "stream",
     "text": [
      "/Users/varun/Library/Python/3.9/lib/python/site-packages/urllib3/__init__.py:35: NotOpenSSLWarning: urllib3 v2 only supports OpenSSL 1.1.1+, currently the 'ssl' module is compiled with 'LibreSSL 2.8.3'. See: https://github.com/urllib3/urllib3/issues/3020\n",
      "  warnings.warn(\n",
      "Ultralytics 8.3.51 🚀 Python-3.9.6 torch-2.5.1 MPS (Apple M3)\n",
      "YOLOv8l summary (fused): 268 layers, 43,668,288 parameters, 0 gradients, 165.2 GFLOPs\n",
      "\n",
      "Downloading https://ultralytics.com/images/bus.jpg to 'bus.jpg'...\n",
      "100%|████████████████████████████████████████| 134k/134k [00:00<00:00, 8.13MB/s]\n",
      "image 1/1 /Users/varun/Documents/gfg_cv/ppe_detect/codes/bus.jpg: 640x480 5 persons, 1 bicycle, 1 bus, 179.3ms\n",
      "Speed: 23.6ms preprocess, 179.3ms inference, 151.0ms postprocess per image at shape (1, 3, 640, 480)\n",
      "Results saved to \u001b[1mruns/detect/predict\u001b[0m\n",
      "💡 Learn more at https://docs.ultralytics.com/modes/predict\n"
     ]
    }
   ],
   "source": [
    "!yolo task=detect mode=predict model=/Users/varun/Documents/yolo_weights/yolov8l.pt conf=0.25 source='https://ultralytics.com/images/bus.jpg' device=mps"
   ]
  },
  {
   "cell_type": "markdown",
   "metadata": {},
   "source": [
    "## Custom Training"
   ]
  },
  {
   "cell_type": "code",
   "execution_count": 14,
   "metadata": {},
   "outputs": [
    {
     "name": "stderr",
     "output_type": "stream",
     "text": [
      "Python(41135) MallocStackLogging: can't turn off malloc stack logging because it was not enabled.\n"
     ]
    },
    {
     "name": "stdout",
     "output_type": "stream",
     "text": [
      "/Users/varun/Library/Python/3.9/lib/python/site-packages/urllib3/__init__.py:35: NotOpenSSLWarning: urllib3 v2 only supports OpenSSL 1.1.1+, currently the 'ssl' module is compiled with 'LibreSSL 2.8.3'. See: https://github.com/urllib3/urllib3/issues/3020\n",
      "  warnings.warn(\n",
      "New https://pypi.org/project/ultralytics/8.3.61 available 😃 Update with 'pip install -U ultralytics'\n",
      "Ultralytics 8.3.51 🚀 Python-3.9.6 torch-2.5.1 CPU (Apple M3)\n",
      "\u001b[34m\u001b[1mengine/trainer: \u001b[0mtask=detect, mode=train, model=/Users/varun/Documents/yolo_weights/yolov8n.pt, data=/Users/varun/Documents/gfg_cv/ppe_detect/dataset/Construction_Site_Safety/data.yaml, epochs=10, time=None, patience=100, batch=16, imgsz=320, save=True, save_period=-1, cache=False, device=None, workers=8, project=None, name=train, exist_ok=False, pretrained=True, optimizer=auto, verbose=True, seed=0, deterministic=True, single_cls=False, rect=False, cos_lr=False, close_mosaic=10, resume=False, amp=True, fraction=1.0, profile=False, freeze=None, multi_scale=False, overlap_mask=True, mask_ratio=4, dropout=0.0, val=True, split=val, save_json=False, save_hybrid=False, conf=0.25, iou=0.7, max_det=300, half=False, dnn=False, plots=True, source=None, vid_stride=1, stream_buffer=False, visualize=False, augment=False, agnostic_nms=False, classes=None, retina_masks=False, embed=None, show=False, save_frames=False, save_txt=False, save_conf=False, save_crop=False, show_labels=True, show_conf=True, show_boxes=True, line_width=None, format=torchscript, keras=False, optimize=False, int8=False, dynamic=False, simplify=True, opset=None, workspace=None, nms=False, lr0=0.01, lrf=0.01, momentum=0.937, weight_decay=0.0005, warmup_epochs=3.0, warmup_momentum=0.8, warmup_bias_lr=0.1, box=7.5, cls=0.5, dfl=1.5, pose=12.0, kobj=1.0, nbs=64, hsv_h=0.015, hsv_s=0.7, hsv_v=0.4, degrees=0.0, translate=0.1, scale=0.5, shear=0.0, perspective=0.0, flipud=0.0, fliplr=0.5, bgr=0.0, mosaic=1.0, mixup=0.0, copy_paste=0.0, copy_paste_mode=flip, auto_augment=randaugment, erasing=0.4, crop_fraction=1.0, cfg=None, tracker=botsort.yaml, save_dir=runs/detect/train\n",
      "Overriding model.yaml nc=80 with nc=10\n",
      "\n",
      "                   from  n    params  module                                       arguments                     \n",
      "  0                  -1  1       464  ultralytics.nn.modules.conv.Conv             [3, 16, 3, 2]                 \n",
      "  1                  -1  1      4672  ultralytics.nn.modules.conv.Conv             [16, 32, 3, 2]                \n",
      "  2                  -1  1      7360  ultralytics.nn.modules.block.C2f             [32, 32, 1, True]             \n",
      "  3                  -1  1     18560  ultralytics.nn.modules.conv.Conv             [32, 64, 3, 2]                \n",
      "  4                  -1  2     49664  ultralytics.nn.modules.block.C2f             [64, 64, 2, True]             \n",
      "  5                  -1  1     73984  ultralytics.nn.modules.conv.Conv             [64, 128, 3, 2]               \n",
      "  6                  -1  2    197632  ultralytics.nn.modules.block.C2f             [128, 128, 2, True]           \n",
      "  7                  -1  1    295424  ultralytics.nn.modules.conv.Conv             [128, 256, 3, 2]              \n",
      "  8                  -1  1    460288  ultralytics.nn.modules.block.C2f             [256, 256, 1, True]           \n",
      "  9                  -1  1    164608  ultralytics.nn.modules.block.SPPF            [256, 256, 5]                 \n",
      " 10                  -1  1         0  torch.nn.modules.upsampling.Upsample         [None, 2, 'nearest']          \n",
      " 11             [-1, 6]  1         0  ultralytics.nn.modules.conv.Concat           [1]                           \n",
      " 12                  -1  1    148224  ultralytics.nn.modules.block.C2f             [384, 128, 1]                 \n",
      " 13                  -1  1         0  torch.nn.modules.upsampling.Upsample         [None, 2, 'nearest']          \n",
      " 14             [-1, 4]  1         0  ultralytics.nn.modules.conv.Concat           [1]                           \n",
      " 15                  -1  1     37248  ultralytics.nn.modules.block.C2f             [192, 64, 1]                  \n",
      " 16                  -1  1     36992  ultralytics.nn.modules.conv.Conv             [64, 64, 3, 2]                \n",
      " 17            [-1, 12]  1         0  ultralytics.nn.modules.conv.Concat           [1]                           \n",
      " 18                  -1  1    123648  ultralytics.nn.modules.block.C2f             [192, 128, 1]                 \n",
      " 19                  -1  1    147712  ultralytics.nn.modules.conv.Conv             [128, 128, 3, 2]              \n",
      " 20             [-1, 9]  1         0  ultralytics.nn.modules.conv.Concat           [1]                           \n",
      " 21                  -1  1    493056  ultralytics.nn.modules.block.C2f             [384, 256, 1]                 \n",
      " 22        [15, 18, 21]  1    753262  ultralytics.nn.modules.head.Detect           [10, [64, 128, 256]]          \n",
      "Model summary: 225 layers, 3,012,798 parameters, 3,012,782 gradients, 8.2 GFLOPs\n",
      "\n",
      "Transferred 319/355 items from pretrained weights\n",
      "\u001b[34m\u001b[1mTensorBoard: \u001b[0mStart with 'tensorboard --logdir runs/detect/train', view at http://localhost:6006/\n",
      "Freezing layer 'model.22.dfl.conv.weight'\n",
      "\u001b[34m\u001b[1mtrain: \u001b[0mScanning /Users/varun/Documents/gfg_cv/ppe_detect/dataset/Construction_Si\u001b[0m\n",
      "\u001b[34m\u001b[1mtrain: \u001b[0mWARNING ⚠️ /Users/varun/Documents/gfg_cv/ppe_detect/dataset/Construction_Site_Safety/train/images/construction-855-_jpg.rf.723d19d48345a0cd8e3ab92a56c270e6.jpg: 1 duplicate labels removed\n",
      "\u001b[34m\u001b[1mtrain: \u001b[0mWARNING ⚠️ /Users/varun/Documents/gfg_cv/ppe_detect/dataset/Construction_Site_Safety/train/images/mask-wearing-1632932085584_png_jpg.rf.960ad3dacd717d22e329aa5c790b1a1f.jpg: 1 duplicate labels removed\n",
      "\u001b[34m\u001b[1mtrain: \u001b[0mWARNING ⚠️ /Users/varun/Documents/gfg_cv/ppe_detect/dataset/Construction_Site_Safety/train/images/n457047_jpg.rf.9fff0be5b2f8c422e37edabbe610a5b9.jpg: 1 duplicate labels removed\n",
      "\u001b[34m\u001b[1mtrain: \u001b[0mWARNING ⚠️ /Users/varun/Documents/gfg_cv/ppe_detect/dataset/Construction_Site_Safety/train/images/youtube-42_jpg.rf.7f0f716dac24ac5a053a4bada1e00527.jpg: 1 duplicate labels removed\n",
      "\u001b[34m\u001b[1mval: \u001b[0mScanning /Users/varun/Documents/gfg_cv/ppe_detect/dataset/Construction_Site\u001b[0m\n",
      "Plotting labels to runs/detect/train/labels.jpg... \n",
      "\u001b[34m\u001b[1moptimizer:\u001b[0m 'optimizer=auto' found, ignoring 'lr0=0.01' and 'momentum=0.937' and determining best 'optimizer', 'lr0' and 'momentum' automatically... \n",
      "\u001b[34m\u001b[1moptimizer:\u001b[0m AdamW(lr=0.000714, momentum=0.9) with parameter groups 57 weight(decay=0.0), 64 weight(decay=0.0005), 63 bias(decay=0.0)\n",
      "\u001b[34m\u001b[1mTensorBoard: \u001b[0mmodel graph visualization added ✅\n",
      "Image sizes 320 train, 320 val\n",
      "Using 0 dataloader workers\n",
      "Logging results to \u001b[1mruns/detect/train\u001b[0m\n",
      "Starting training for 10 epochs...\n",
      "Closing dataloader mosaic\n",
      "\n",
      "      Epoch    GPU_mem   box_loss   cls_loss   dfl_loss  Instances       Size\n",
      "       1/10         0G      1.562       2.99      1.472        199        320: 1\n",
      "                 Class     Images  Instances      Box(P          R      mAP50  m\n",
      "                   all        114        697      0.412      0.336      0.384      0.185\n",
      "\n",
      "      Epoch    GPU_mem   box_loss   cls_loss   dfl_loss  Instances       Size\n",
      "       2/10         0G      1.432      1.817      1.397        127        320: 1\n",
      "                 Class     Images  Instances      Box(P          R      mAP50  m\n",
      "                   all        114        697      0.645      0.385       0.52      0.277\n",
      "\n",
      "      Epoch    GPU_mem   box_loss   cls_loss   dfl_loss  Instances       Size\n",
      "       3/10         0G       1.37      1.599       1.36        166        320: 1\n",
      "                 Class     Images  Instances      Box(P          R      mAP50  m\n",
      "                   all        114        697       0.65      0.415      0.541      0.302\n",
      "\n",
      "      Epoch    GPU_mem   box_loss   cls_loss   dfl_loss  Instances       Size\n",
      "       4/10         0G      1.315       1.48      1.323         86        320: 1\n",
      "                 Class     Images  Instances      Box(P          R      mAP50  m\n",
      "                   all        114        697      0.637      0.488      0.576      0.313\n",
      "\n",
      "      Epoch    GPU_mem   box_loss   cls_loss   dfl_loss  Instances       Size\n",
      "       5/10         0G      1.277       1.39      1.297        140        320: 1\n",
      "                 Class     Images  Instances      Box(P          R      mAP50  m\n",
      "                   all        114        697      0.679      0.513      0.617      0.329\n",
      "\n",
      "      Epoch    GPU_mem   box_loss   cls_loss   dfl_loss  Instances       Size\n",
      "       6/10         0G      1.234      1.305      1.266        182        320: 1\n",
      "                 Class     Images  Instances      Box(P          R      mAP50  m\n",
      "                   all        114        697      0.667      0.512      0.623      0.309\n",
      "\n",
      "      Epoch    GPU_mem   box_loss   cls_loss   dfl_loss  Instances       Size\n",
      "       7/10         0G        1.2      1.233      1.243        183        320: 1\n",
      "                 Class     Images  Instances      Box(P          R      mAP50  m\n",
      "                   all        114        697      0.734      0.557      0.678      0.369\n",
      "\n",
      "      Epoch    GPU_mem   box_loss   cls_loss   dfl_loss  Instances       Size\n",
      "       8/10         0G      1.161      1.181      1.224        160        320: 1\n",
      "                 Class     Images  Instances      Box(P          R      mAP50  m\n",
      "                   all        114        697      0.746      0.566      0.677      0.379\n",
      "\n",
      "      Epoch    GPU_mem   box_loss   cls_loss   dfl_loss  Instances       Size\n",
      "       9/10         0G      1.135      1.126      1.205        128        320: 1\n",
      "                 Class     Images  Instances      Box(P          R      mAP50  m\n",
      "                   all        114        697      0.751      0.572      0.688      0.377\n",
      "\n",
      "      Epoch    GPU_mem   box_loss   cls_loss   dfl_loss  Instances       Size\n",
      "      10/10         0G      1.118      1.081       1.19        111        320: 1\n",
      "                 Class     Images  Instances      Box(P          R      mAP50  m\n",
      "                   all        114        697      0.777      0.573      0.699      0.396\n",
      "\n",
      "10 epochs completed in 0.597 hours.\n",
      "Optimizer stripped from runs/detect/train/weights/last.pt, 6.2MB\n",
      "Optimizer stripped from runs/detect/train/weights/best.pt, 6.2MB\n",
      "\n",
      "Validating runs/detect/train/weights/best.pt...\n",
      "Ultralytics 8.3.51 🚀 Python-3.9.6 torch-2.5.1 CPU (Apple M3)\n",
      "Model summary (fused): 168 layers, 3,007,598 parameters, 0 gradients, 8.1 GFLOPs\n",
      "                 Class     Images  Instances      Box(P          R      mAP50  m\n",
      "                   all        114        697      0.773      0.574      0.699      0.396\n",
      "               Hardhat         42         79      0.876      0.658      0.785      0.479\n",
      "                  Mask         19         21          1      0.804      0.905      0.631\n",
      "            NO-Hardhat         37         69      0.906      0.464      0.685      0.316\n",
      "               NO-Mask         44         74      0.714      0.297       0.46        0.2\n",
      "        NO-Safety Vest         56        106      0.761       0.45      0.617       0.32\n",
      "                Person         84        166      0.724      0.657      0.738       0.42\n",
      "           Safety Cone         13         44      0.732      0.795      0.824      0.397\n",
      "           Safety Vest         28         41      0.721      0.585      0.725       0.41\n",
      "             machinery         26         55      0.646      0.691      0.751      0.474\n",
      "               vehicle         16         42      0.654      0.333      0.502      0.315\n",
      "Speed: 0.2ms preprocess, 37.6ms inference, 0.0ms loss, 0.1ms postprocess per image\n",
      "Results saved to \u001b[1mruns/detect/train\u001b[0m\n",
      "💡 Learn more at https://docs.ultralytics.com/modes/train\n"
     ]
    }
   ],
   "source": [
    "# Trying with cpu\n",
    "!yolo task=detect mode=train model=/Users/varun/Documents/yolo_weights/yolov8n.pt conf=0.25 data=/Users/varun/Documents/gfg_cv/ppe_detect/dataset/Construction_Site_Safety/data.yaml epochs=10 imgsz=320 "
   ]
  },
  {
   "cell_type": "code",
   "execution_count": null,
   "metadata": {},
   "outputs": [],
   "source": []
  }
 ],
 "metadata": {
  "kernelspec": {
   "display_name": "Python 3",
   "language": "python",
   "name": "python3"
  },
  "language_info": {
   "codemirror_mode": {
    "name": "ipython",
    "version": 3
   },
   "file_extension": ".py",
   "mimetype": "text/x-python",
   "name": "python",
   "nbconvert_exporter": "python",
   "pygments_lexer": "ipython3",
   "version": "3.9.6"
  }
 },
 "nbformat": 4,
 "nbformat_minor": 2
}
